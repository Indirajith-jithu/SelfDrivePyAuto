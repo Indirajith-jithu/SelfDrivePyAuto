{
 "cells": [
  {
   "cell_type": "code",
   "execution_count": null,
   "metadata": {},
   "outputs": [],
   "source": [
    "import numpy as np\n",
    "import matplotlib.pyplot as plt\n",
    "\n",
    "img = plt.imread('sample_screenshot.jpg')\n",
    "\n",
    "y, x = np.mgrid[0:img.shape[0]:100, 0:img.shape[1]:100]\n",
    "\n",
    "plt.imshow(img)\n",
    "plt.plot(x, y, 'r.', markersize=1)\n",
    "plt.grid(True)\n",
    "plt.show()"
   ]
  },
  {
   "cell_type": "code",
   "execution_count": null,
   "metadata": {},
   "outputs": [],
   "source": [
    "\n",
    "def crop_game(img):\n",
    "   \n",
    "    y_start = 200  \n",
    "    y_end = 810    \n",
    "    x_start = 200  \n",
    "    x_end = 1450\n",
    "    \n",
    "    cropped_img = img[y_start:y_end, x_start:x_end]\n",
    "    return cropped_img"
   ]
  },
  {
   "cell_type": "code",
   "execution_count": null,
   "metadata": {},
   "outputs": [],
   "source": [
    "import cv2\n",
    "\n",
    "video_path = 'mydata/raw/bus_curve.mp4'\n",
    "save_dir = 'mydata/bus/curve/frame_{name}.jpg'\n",
    "\n",
    "video = cv2.VideoCapture(video_path)\n",
    "\n",
    "count = 0\n",
    "saved = 0\n",
    "\n",
    "while True:\n",
    "\n",
    "    success, frame = video.read()\n",
    "    \n",
    "    if not success:\n",
    "        break\n",
    "\n",
    "    if count % 40 == 0:\n",
    "        cv2.imwrite(save_dir.format(name=count), crop_game(frame))\n",
    "        print(f'Saved frame_{saved}.jpg')\n",
    "        saved += 1\n",
    "        \n",
    "    \n",
    "    count += 1\n",
    "print('total saved: ',saved)\n",
    "video.release()"
   ]
  }
 ],
 "metadata": {
  "language_info": {
   "name": "python"
  }
 },
 "nbformat": 4,
 "nbformat_minor": 2
}
